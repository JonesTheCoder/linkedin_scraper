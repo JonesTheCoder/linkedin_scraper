{
 "cells": [
  {
   "cell_type": "code",
   "execution_count": 1,
   "metadata": {
    "collapsed": true
   },
   "outputs": [],
   "source": [
    "from linkedin_scraper_2 import Company\n",
    "from selenium import webdriver\n",
    "import time\n",
    "import os\n",
    "import sqlite3\n",
    "import pandas as pd\n",
    "import re\n",
    "import csv"
   ]
  },
  {
   "cell_type": "code",
   "execution_count": 2,
   "metadata": {},
   "outputs": [
    {
     "data": {
      "text/plain": [
       "<sqlite3.Cursor at 0x1182967a0>"
      ]
     },
     "execution_count": 2,
     "metadata": {},
     "output_type": "execute_result"
    }
   ],
   "source": [
    "# Check if database exists, and if it doesn't set it up:\n",
    "conn = sqlite3.connect(\"linkedIn_Companies.db\")\n",
    "cur = conn.cursor()\n",
    "cur.execute(\"PRAGMA foreign_keys = ON\")\n",
    "\n",
    "cur.execute('''CREATE TABLE IF NOT EXISTS company_info(\n",
    "                company_id INTEGER NOT NULL PRIMARY KEY AUTOINCREMENT,\n",
    "                company_name TEXT NOT NULL)''')\n",
    "\n",
    "cur.execute(''' CREATE TABLE IF NOT EXISTS employee_info(\n",
    "                employee_id INTEGER NOT NULL PRIMARY KEY AUTOINCREMENT,\n",
    "                company_id INTEGER NOT NULL,\n",
    "                name TEXT NOT NULL,\n",
    "                profile_picture TEXT,\n",
    "                location TEXT,\n",
    "                role TEXT,\n",
    "                FOREIGN KEY(company_id) REFERENCES company_info(company_id) ON DELETE CASCADE\n",
    "                )\n",
    "                ''')\n"
   ]
  },
  {
   "cell_type": "code",
   "execution_count": 3,
   "metadata": {
    "scrolled": true
   },
   "outputs": [
    {
     "name": "stdout",
     "output_type": "stream",
     "text": [
      "Please enter the LinkedIn URL of the company you wish to search for:\n",
      "\n",
      "https://www.linkedin.com/company/Util-\n"
     ]
    }
   ],
   "source": [
    "# Ask user for linkedin_url\n",
    "# use this link: https://www.linkedin.com/company/Util-\n",
    "# DON'T FORGET TO HIT ENTER\n",
    "\n",
    "\n",
    "print(\"Please enter the LinkedIn URL of the company you wish to search for:\\n\")\n",
    "companyURL = input()\n"
   ]
  },
  {
   "cell_type": "code",
   "execution_count": 4,
   "metadata": {
    "collapsed": true
   },
   "outputs": [],
   "source": [
    "driver = webdriver.Chrome()\n",
    "company = Company(companyURL, driver = driver, scrape=False, get_employees = True)\n",
    "# LOGIN ON NEW SCREEN BEFORE MOVING FORWARD #"
   ]
  },
  {
   "cell_type": "code",
   "execution_count": 7,
   "metadata": {},
   "outputs": [
    {
     "name": "stdout",
     "output_type": "stream",
     "text": [
      "Checking database for company name...\n",
      "Company_name already exists!... this is it: \n",
      "Util\n",
      "Company ID: 1\n",
      "   employee_id  company_id                  name  \\\n",
      "0            1           1  Abdel Wahab Turkmani   \n",
      "\n",
      "                                     profile_picture                location  \\\n",
      "0  https://media.licdn.com/dms/image/C4E03AQEK30P...  Oxford, United Kingdom   \n",
      "\n",
      "                          role  \n",
      "0  Current: Co-founder at Util  \n"
     ]
    }
   ],
   "source": [
    "#Search (press play)\n",
    "company = Company(companyURL, driver = driver, scrape=True, get_employees = True)"
   ]
  },
  {
   "cell_type": "code",
   "execution_count": 6,
   "metadata": {},
   "outputs": [
    {
     "data": {
      "text/html": [
       "<div>\n",
       "<style>\n",
       "    .dataframe thead tr:only-child th {\n",
       "        text-align: right;\n",
       "    }\n",
       "\n",
       "    .dataframe thead th {\n",
       "        text-align: left;\n",
       "    }\n",
       "\n",
       "    .dataframe tbody tr th {\n",
       "        vertical-align: top;\n",
       "    }\n",
       "</style>\n",
       "<table border=\"1\" class=\"dataframe\">\n",
       "  <thead>\n",
       "    <tr style=\"text-align: right;\">\n",
       "      <th></th>\n",
       "      <th>employee_id</th>\n",
       "      <th>company_id</th>\n",
       "      <th>name</th>\n",
       "      <th>profile_picture</th>\n",
       "      <th>location</th>\n",
       "      <th>role</th>\n",
       "    </tr>\n",
       "  </thead>\n",
       "  <tbody>\n",
       "    <tr>\n",
       "      <th>0</th>\n",
       "      <td>1</td>\n",
       "      <td>1</td>\n",
       "      <td>Abdel Wahab Turkmani</td>\n",
       "      <td>https://media.licdn.com/dms/image/C4E03AQEK30P...</td>\n",
       "      <td>Oxford, United Kingdom</td>\n",
       "      <td>Current: Co-founder at Util</td>\n",
       "    </tr>\n",
       "  </tbody>\n",
       "</table>\n",
       "</div>"
      ],
      "text/plain": [
       "   employee_id  company_id                  name  \\\n",
       "0            1           1  Abdel Wahab Turkmani   \n",
       "\n",
       "                                     profile_picture                location  \\\n",
       "0  https://media.licdn.com/dms/image/C4E03AQEK30P...  Oxford, United Kingdom   \n",
       "\n",
       "                          role  \n",
       "0  Current: Co-founder at Util  "
      ]
     },
     "execution_count": 6,
     "metadata": {},
     "output_type": "execute_result"
    }
   ],
   "source": [
    "# Temporary fix for formatting issue with returning pd.read_sql_query...\n",
    "# enter company_id based on information above, then you will see a formatted table of the information\n",
    "company_id = 1;\n",
    "pd.read_sql_query(\"SELECT * FROM employee_info WHERE company_id={0}\".format(company_id), conn)\n"
   ]
  },
  {
   "cell_type": "code",
   "execution_count": 9,
   "metadata": {
    "collapsed": true
   },
   "outputs": [],
   "source": [
    "# if you want to search another company, you can update the companyURL by re-entering a new url in the input box\n",
    "# then skip the cell that initiates a new driver, and press play in the cell titled \"search\" -- \n",
    "# Then you won't have to login again. "
   ]
  },
  {
   "cell_type": "code",
   "execution_count": null,
   "metadata": {
    "collapsed": true
   },
   "outputs": [],
   "source": []
  },
  {
   "cell_type": "code",
   "execution_count": null,
   "metadata": {
    "collapsed": true
   },
   "outputs": [],
   "source": []
  },
  {
   "cell_type": "code",
   "execution_count": null,
   "metadata": {
    "collapsed": true
   },
   "outputs": [],
   "source": []
  },
  {
   "cell_type": "code",
   "execution_count": null,
   "metadata": {
    "collapsed": true
   },
   "outputs": [],
   "source": []
  }
 ],
 "metadata": {
  "kernelspec": {
   "display_name": "Python 3",
   "language": "python",
   "name": "python3"
  },
  "language_info": {
   "codemirror_mode": {
    "name": "ipython",
    "version": 3
   },
   "file_extension": ".py",
   "mimetype": "text/x-python",
   "name": "python",
   "nbconvert_exporter": "python",
   "pygments_lexer": "ipython3",
   "version": "3.6.5"
  }
 },
 "nbformat": 4,
 "nbformat_minor": 2
}
